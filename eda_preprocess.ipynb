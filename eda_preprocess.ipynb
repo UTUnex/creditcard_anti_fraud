{
 "cells": [
  {
   "cell_type": "markdown",
   "metadata": {},
   "source": [
    "## Kaggle Credit Card Anti Fraud Implementation \n",
    ">1. Project introduction and data source：[Kaggle](https://www.kaggle.com/mlg-ulb/creditcardfraud)  \n",
    ">2. Machine Learning Category：**Supervised binary classification problem** OR **Unsupervised anamoly detection problem**    \n",
    ">3. Supervised learning scheme 1：Perform the classification task using [BalancedRandomForestClassifier](https://imbalanced-learn.readthedocs.io/en/stable/generated/imblearn.ensemble.BalancedRandomForestClassifier.html#imblearn.ensemble.BalancedRandomForestClassifier), [RusBosstClassifier](https://imbalanced-learn.readthedocs.io/en/stable/generated/imblearn.ensemble.BalancedRandomForestClassifier.html#imblearn.ensemble.BalancedRandomForestClassifier) and [LGBMClassifier](https://lightgbm.readthedocs.io/en/latest/pythonapi/lightgbm.LGBMClassifier.html?highlight=classifier)  \n",
    ">4. Supervised learning scheme 2: Also, we can first apply some resampling methods such as [Smotetomek](https://imbalanced-learn.readthedocs.io/en/stable/generated/imblearn.combine.SMOTETomek.html?highlight=smotet#imblearn.combine.SMOTETomek) and [Smoteenn](https://imbalanced-learn.readthedocs.io/en/stable/generated/imblearn.combine.SMOTEENN.html) to make the unbalanced datasets balanced, then we can use the normal classification algorithms as usual  \n",
    ">4. Unsupervised learning scheme：Perform the anamoly detection task using [Isolation Forest](https://pyod.readthedocs.io/en/latest/pyod.models.html?highlight=iforest#pyod.models.iforest.IForest) OR [Autoencoder network](https://pyod.readthedocs.io/en/latest/pyod.models.html?highlight=iforest#module-pyod.models.auto_encoder)  \n",
    ">5. In this notebook, we are going to implement the [Exploratory data analysis: EDA](https://www.kaggle.com/pmarcelino/comprehensive-data-exploration-with-python) and some preprocessing  \n",
    ">5. keywords: [imbalanced-learn](https://imbalanced-learn.readthedocs.io/en/stable/index.html),[pytorch](https://pytorch.org/), [skorch](https://skorch.readthedocs.io/en/stable/user/quickstart.html), [tune-sklearn](https://github.com/ray-project/tune-sklearn) from ray.tune, [dask ml](https://ml.dask.org/), [sklearn](https://scikit-learn.org/stable/), [microsoft nni](https://nni.readthedocs.io/en/latest/Overview.html), [hyperopt](https://github.com/hyperopt/hyperopt)  \n",
    ">6. About feature selection: [Borutapy](https://github.com/scikit-learn-contrib/boruta_py) and [GradientFeatureSelector](https://nni.readthedocs.io/en/latest/FeatureEngineering/GradientFeatureSelector.html)  \n",
    "\n",
    "## Tricks to deal with the imbalance  \n",
    ">1. [Oversampling and Undersampling](https://towardsdatascience.com/having-an-imbalanced-dataset-here-is-how-you-can-solve-it-1640568947eb), or the combination of them [Smotetomek](https://imbalanced-learn.readthedocs.io/en/stable/generated/imblearn.combine.SMOTETomek.html?highlight=smotet#imblearn.combine.SMOTETomek) and [Smoteenn](https://imbalanced-learn.readthedocs.io/en/stable/generated/imblearn.combine.SMOTEENN.html)  \n",
    ">2. Evaluation metrics: f1_score, [geometric_mean_score](https://imbalanced-learn.readthedocs.io/en/stable/generated/imblearn.metrics.geometric_mean_score.html#imblearn.metrics.geometric_mean_score)  \n",
    ">* [Ref1:Dealing With Class Imbalanced Datasets For Classification](https://towardsdatascience.com/dealing-with-class-imbalanced-datasets-for-classification-2cc6fad99fd9)    \n",
    ">* [Ref2:机器学习之类别不平衡问题 (3) —— 采样方法](https://www.cnblogs.com/massquantity/p/9382710.html)  \n",
    ">* [Ref3:机器学习中的非均衡问题(imbalanced data)和应对方法](https://zhuanlan.zhihu.com/p/38687978)  \n",
    ">* [Ref4:机器学习：如何解决机器学习中数据不平衡问题](https://www.jianshu.com/p/be343414dd24)\n"
   ]
  },
  {
   "cell_type": "markdown",
   "metadata": {},
   "source": [
    "### I. Load the data and do some preliminary exploration on it"
   ]
  },
  {
   "cell_type": "code",
   "execution_count": 1,
   "metadata": {},
   "outputs": [],
   "source": [
    "# Load the most widely used libraries for data processing\n",
    "import numpy as np\n",
    "import pandas as pd\n",
    "import torch"
   ]
  },
  {
   "cell_type": "code",
   "execution_count": 2,
   "metadata": {},
   "outputs": [],
   "source": [
    "# Read the data of csv format as pandas dataframe\n",
    "data_original = pd.read_csv('creditcard.csv')"
   ]
  },
  {
   "cell_type": "code",
   "execution_count": 3,
   "metadata": {},
   "outputs": [
    {
     "output_type": "execute_result",
     "data": {
      "text/plain": "pandas.core.frame.DataFrame"
     },
     "metadata": {},
     "execution_count": 3
    }
   ],
   "source": [
    "type(data_original)"
   ]
  },
  {
   "cell_type": "code",
   "execution_count": 4,
   "metadata": {},
   "outputs": [
    {
     "output_type": "execute_result",
     "data": {
      "text/plain": "   Time        V1        V2        V3        V4        V5        V6        V7  \\\n0   0.0 -1.359807 -0.072781  2.536347  1.378155 -0.338321  0.462388  0.239599   \n1   0.0  1.191857  0.266151  0.166480  0.448154  0.060018 -0.082361 -0.078803   \n2   1.0 -1.358354 -1.340163  1.773209  0.379780 -0.503198  1.800499  0.791461   \n3   1.0 -0.966272 -0.185226  1.792993 -0.863291 -0.010309  1.247203  0.237609   \n4   2.0 -1.158233  0.877737  1.548718  0.403034 -0.407193  0.095921  0.592941   \n\n         V8        V9  ...       V21       V22       V23       V24       V25  \\\n0  0.098698  0.363787  ... -0.018307  0.277838 -0.110474  0.066928  0.128539   \n1  0.085102 -0.255425  ... -0.225775 -0.638672  0.101288 -0.339846  0.167170   \n2  0.247676 -1.514654  ...  0.247998  0.771679  0.909412 -0.689281 -0.327642   \n3  0.377436 -1.387024  ... -0.108300  0.005274 -0.190321 -1.175575  0.647376   \n4 -0.270533  0.817739  ... -0.009431  0.798278 -0.137458  0.141267 -0.206010   \n\n        V26       V27       V28  Amount  Class  \n0 -0.189115  0.133558 -0.021053  149.62      0  \n1  0.125895 -0.008983  0.014724    2.69      0  \n2 -0.139097 -0.055353 -0.059752  378.66      0  \n3 -0.221929  0.062723  0.061458  123.50      0  \n4  0.502292  0.219422  0.215153   69.99      0  \n\n[5 rows x 31 columns]",
      "text/html": "<div>\n<style scoped>\n    .dataframe tbody tr th:only-of-type {\n        vertical-align: middle;\n    }\n\n    .dataframe tbody tr th {\n        vertical-align: top;\n    }\n\n    .dataframe thead th {\n        text-align: right;\n    }\n</style>\n<table border=\"1\" class=\"dataframe\">\n  <thead>\n    <tr style=\"text-align: right;\">\n      <th></th>\n      <th>Time</th>\n      <th>V1</th>\n      <th>V2</th>\n      <th>V3</th>\n      <th>V4</th>\n      <th>V5</th>\n      <th>V6</th>\n      <th>V7</th>\n      <th>V8</th>\n      <th>V9</th>\n      <th>...</th>\n      <th>V21</th>\n      <th>V22</th>\n      <th>V23</th>\n      <th>V24</th>\n      <th>V25</th>\n      <th>V26</th>\n      <th>V27</th>\n      <th>V28</th>\n      <th>Amount</th>\n      <th>Class</th>\n    </tr>\n  </thead>\n  <tbody>\n    <tr>\n      <th>0</th>\n      <td>0.0</td>\n      <td>-1.359807</td>\n      <td>-0.072781</td>\n      <td>2.536347</td>\n      <td>1.378155</td>\n      <td>-0.338321</td>\n      <td>0.462388</td>\n      <td>0.239599</td>\n      <td>0.098698</td>\n      <td>0.363787</td>\n      <td>...</td>\n      <td>-0.018307</td>\n      <td>0.277838</td>\n      <td>-0.110474</td>\n      <td>0.066928</td>\n      <td>0.128539</td>\n      <td>-0.189115</td>\n      <td>0.133558</td>\n      <td>-0.021053</td>\n      <td>149.62</td>\n      <td>0</td>\n    </tr>\n    <tr>\n      <th>1</th>\n      <td>0.0</td>\n      <td>1.191857</td>\n      <td>0.266151</td>\n      <td>0.166480</td>\n      <td>0.448154</td>\n      <td>0.060018</td>\n      <td>-0.082361</td>\n      <td>-0.078803</td>\n      <td>0.085102</td>\n      <td>-0.255425</td>\n      <td>...</td>\n      <td>-0.225775</td>\n      <td>-0.638672</td>\n      <td>0.101288</td>\n      <td>-0.339846</td>\n      <td>0.167170</td>\n      <td>0.125895</td>\n      <td>-0.008983</td>\n      <td>0.014724</td>\n      <td>2.69</td>\n      <td>0</td>\n    </tr>\n    <tr>\n      <th>2</th>\n      <td>1.0</td>\n      <td>-1.358354</td>\n      <td>-1.340163</td>\n      <td>1.773209</td>\n      <td>0.379780</td>\n      <td>-0.503198</td>\n      <td>1.800499</td>\n      <td>0.791461</td>\n      <td>0.247676</td>\n      <td>-1.514654</td>\n      <td>...</td>\n      <td>0.247998</td>\n      <td>0.771679</td>\n      <td>0.909412</td>\n      <td>-0.689281</td>\n      <td>-0.327642</td>\n      <td>-0.139097</td>\n      <td>-0.055353</td>\n      <td>-0.059752</td>\n      <td>378.66</td>\n      <td>0</td>\n    </tr>\n    <tr>\n      <th>3</th>\n      <td>1.0</td>\n      <td>-0.966272</td>\n      <td>-0.185226</td>\n      <td>1.792993</td>\n      <td>-0.863291</td>\n      <td>-0.010309</td>\n      <td>1.247203</td>\n      <td>0.237609</td>\n      <td>0.377436</td>\n      <td>-1.387024</td>\n      <td>...</td>\n      <td>-0.108300</td>\n      <td>0.005274</td>\n      <td>-0.190321</td>\n      <td>-1.175575</td>\n      <td>0.647376</td>\n      <td>-0.221929</td>\n      <td>0.062723</td>\n      <td>0.061458</td>\n      <td>123.50</td>\n      <td>0</td>\n    </tr>\n    <tr>\n      <th>4</th>\n      <td>2.0</td>\n      <td>-1.158233</td>\n      <td>0.877737</td>\n      <td>1.548718</td>\n      <td>0.403034</td>\n      <td>-0.407193</td>\n      <td>0.095921</td>\n      <td>0.592941</td>\n      <td>-0.270533</td>\n      <td>0.817739</td>\n      <td>...</td>\n      <td>-0.009431</td>\n      <td>0.798278</td>\n      <td>-0.137458</td>\n      <td>0.141267</td>\n      <td>-0.206010</td>\n      <td>0.502292</td>\n      <td>0.219422</td>\n      <td>0.215153</td>\n      <td>69.99</td>\n      <td>0</td>\n    </tr>\n  </tbody>\n</table>\n<p>5 rows × 31 columns</p>\n</div>"
     },
     "metadata": {},
     "execution_count": 4
    }
   ],
   "source": [
    "# Data overview\n",
    "data_original.head(5)"
   ]
  },
  {
   "cell_type": "code",
   "execution_count": 5,
   "metadata": {
    "tags": []
   },
   "outputs": [
    {
     "output_type": "stream",
     "name": "stdout",
     "text": "<class 'pandas.core.frame.DataFrame'>\nRangeIndex: 284807 entries, 0 to 284806\nData columns (total 31 columns):\n #   Column  Non-Null Count   Dtype  \n---  ------  --------------   -----  \n 0   Time    284807 non-null  float64\n 1   V1      284807 non-null  float64\n 2   V2      284807 non-null  float64\n 3   V3      284807 non-null  float64\n 4   V4      284807 non-null  float64\n 5   V5      284807 non-null  float64\n 6   V6      284807 non-null  float64\n 7   V7      284807 non-null  float64\n 8   V8      284807 non-null  float64\n 9   V9      284807 non-null  float64\n 10  V10     284807 non-null  float64\n 11  V11     284807 non-null  float64\n 12  V12     284807 non-null  float64\n 13  V13     284807 non-null  float64\n 14  V14     284807 non-null  float64\n 15  V15     284807 non-null  float64\n 16  V16     284807 non-null  float64\n 17  V17     284807 non-null  float64\n 18  V18     284807 non-null  float64\n 19  V19     284807 non-null  float64\n 20  V20     284807 non-null  float64\n 21  V21     284807 non-null  float64\n 22  V22     284807 non-null  float64\n 23  V23     284807 non-null  float64\n 24  V24     284807 non-null  float64\n 25  V25     284807 non-null  float64\n 26  V26     284807 non-null  float64\n 27  V27     284807 non-null  float64\n 28  V28     284807 non-null  float64\n 29  Amount  284807 non-null  float64\n 30  Class   284807 non-null  int64  \ndtypes: float64(30), int64(1)\nmemory usage: 67.4 MB\n"
    }
   ],
   "source": [
    "# Show the data scale, dtype of each feature and show whether there exist missing values under each feature\n",
    "data_original.info()"
   ]
  },
  {
   "cell_type": "markdown",
   "metadata": {},
   "source": [
    "Based on the info above, we know that:  \n",
    ">1. The dtype of all features are numerical thus we don't have to perform any one hot encodinng which is necessary for categorical features  \n",
    ">2. There are no missing values under each feature thus we don't have to process the missing values like dropping or imputation"
   ]
  },
  {
   "cell_type": "code",
   "execution_count": 6,
   "metadata": {},
   "outputs": [
    {
     "output_type": "execute_result",
     "data": {
      "text/plain": "Time      0\nV1        0\nV2        0\nV3        0\nV4        0\nV5        0\nV6        0\nV7        0\nV8        0\nV9        0\nV10       0\nV11       0\nV12       0\nV13       0\nV14       0\nV15       0\nV16       0\nV17       0\nV18       0\nV19       0\nV20       0\nV21       0\nV22       0\nV23       0\nV24       0\nV25       0\nV26       0\nV27       0\nV28       0\nAmount    0\nClass     0\ndtype: int64"
     },
     "metadata": {},
     "execution_count": 6
    }
   ],
   "source": [
    "# Recheck the number of missing values under each feature\n",
    "data_original.isnull().sum()"
   ]
  },
  {
   "cell_type": "code",
   "execution_count": 7,
   "metadata": {},
   "outputs": [
    {
     "output_type": "execute_result",
     "data": {
      "text/plain": "0"
     },
     "metadata": {},
     "execution_count": 7
    }
   ],
   "source": [
    "# Check the total number of missing values in the dataset\n",
    "data_original.isnull().sum().sum()"
   ]
  },
  {
   "cell_type": "markdown",
   "metadata": {},
   "source": [
    "Based on the result above, it's confirmed that there are no missing values in the data thus we won't perform any missing value processing"
   ]
  },
  {
   "cell_type": "code",
   "execution_count": 8,
   "metadata": {},
   "outputs": [
    {
     "output_type": "execute_result",
     "data": {
      "text/plain": "Time      124592\nV1        275663\nV2        275663\nV3        275663\nV4        275663\nV5        275663\nV6        275663\nV7        275663\nV8        275663\nV9        275663\nV10       275663\nV11       275663\nV12       275663\nV13       275663\nV14       275663\nV15       275663\nV16       275663\nV17       275663\nV18       275663\nV19       275663\nV20       275663\nV21       275663\nV22       275663\nV23       275663\nV24       275663\nV25       275663\nV26       275663\nV27       275663\nV28       275663\nAmount     32767\nClass          2\ndtype: int64"
     },
     "metadata": {},
     "execution_count": 8
    }
   ],
   "source": [
    "# Count distinct observations under each column including target column\n",
    "data_original.nunique()"
   ]
  },
  {
   "cell_type": "code",
   "execution_count": 9,
   "metadata": {},
   "outputs": [
    {
     "output_type": "execute_result",
     "data": {
      "text/plain": "0    284315\n1       492\nName: Class, dtype: int64"
     },
     "metadata": {},
     "execution_count": 9
    }
   ],
   "source": [
    "# Count unique values under target, i.e., see how many classes in the target column\n",
    "data_original['Class'].value_counts()"
   ]
  },
  {
   "cell_type": "code",
   "execution_count": 34,
   "metadata": {},
   "outputs": [
    {
     "output_type": "display_data",
     "data": {
      "image/png": "[encoded data removed]"
     },
     "metadata": {}
    }
   ],
   "source": [
    "# Visualize the class distribution using plotly\n",
    "import plotly.express as px\n",
    "fig = px.histogram(data_original,x='Class',color='Class',title='Class Distributions (0: No Fraud || 1: Fraud)')\n",
    "# fig.show()\n",
    "fig.show('png')"
   ]
  },
  {
   "cell_type": "code",
   "execution_count": 11,
   "metadata": {},
   "outputs": [
    {
     "output_type": "execute_result",
     "data": {
      "text/plain": "0    99.827251\n1     0.172749\nName: Class, dtype: float64"
     },
     "metadata": {},
     "execution_count": 11
    }
   ],
   "source": [
    "# Show the percentage of each class in the data\n",
    "data_original['Class'].value_counts(normalize = True)*100"
   ]
  },
  {
   "cell_type": "code",
   "execution_count": 12,
   "metadata": {},
   "outputs": [
    {
     "output_type": "execute_result",
     "data": {
      "text/plain": "                Time            V1            V2            V3            V4  \\\ncount  284807.000000  2.848070e+05  2.848070e+05  2.848070e+05  2.848070e+05   \nmean    94813.859575  1.165980e-15  3.416908e-16 -1.373150e-15  2.086869e-15   \nstd     47488.145955  1.958696e+00  1.651309e+00  1.516255e+00  1.415869e+00   \nmin         0.000000 -5.640751e+01 -7.271573e+01 -4.832559e+01 -5.683171e+00   \n25%     54201.500000 -9.203734e-01 -5.985499e-01 -8.903648e-01 -8.486401e-01   \n50%     84692.000000  1.810880e-02  6.548556e-02  1.798463e-01 -1.984653e-02   \n75%    139320.500000  1.315642e+00  8.037239e-01  1.027196e+00  7.433413e-01   \nmax    172792.000000  2.454930e+00  2.205773e+01  9.382558e+00  1.687534e+01   \n\n                 V5            V6            V7            V8            V9  \\\ncount  2.848070e+05  2.848070e+05  2.848070e+05  2.848070e+05  2.848070e+05   \nmean   9.604066e-16  1.490107e-15 -5.556467e-16  1.177556e-16 -2.406455e-15   \nstd    1.380247e+00  1.332271e+00  1.237094e+00  1.194353e+00  1.098632e+00   \nmin   -1.137433e+02 -2.616051e+01 -4.355724e+01 -7.321672e+01 -1.343407e+01   \n25%   -6.915971e-01 -7.682956e-01 -5.540759e-01 -2.086297e-01 -6.430976e-01   \n50%   -5.433583e-02 -2.741871e-01  4.010308e-02  2.235804e-02 -5.142873e-02   \n75%    6.119264e-01  3.985649e-01  5.704361e-01  3.273459e-01  5.971390e-01   \nmax    3.480167e+01  7.330163e+01  1.205895e+02  2.000721e+01  1.559499e+01   \n\n       ...           V21           V22           V23           V24  \\\ncount  ...  2.848070e+05  2.848070e+05  2.848070e+05  2.848070e+05   \nmean   ...  1.656562e-16 -3.444850e-16  2.578648e-16  4.471968e-15   \nstd    ...  7.345240e-01  7.257016e-01  6.244603e-01  6.056471e-01   \nmin    ... -3.483038e+01 -1.093314e+01 -4.480774e+01 -2.836627e+00   \n25%    ... -2.283949e-01 -5.423504e-01 -1.618463e-01 -3.545861e-01   \n50%    ... -2.945017e-02  6.781943e-03 -1.119293e-02  4.097606e-02   \n75%    ...  1.863772e-01  5.285536e-01  1.476421e-01  4.395266e-01   \nmax    ...  2.720284e+01  1.050309e+01  2.252841e+01  4.584549e+00   \n\n                V25           V26           V27           V28         Amount  \\\ncount  2.848070e+05  2.848070e+05  2.848070e+05  2.848070e+05  284807.000000   \nmean   5.340915e-16  1.687098e-15 -3.666453e-16 -1.220404e-16      88.349619   \nstd    5.212781e-01  4.822270e-01  4.036325e-01  3.300833e-01     250.120109   \nmin   -1.029540e+01 -2.604551e+00 -2.256568e+01 -1.543008e+01       0.000000   \n25%   -3.171451e-01 -3.269839e-01 -7.083953e-02 -5.295979e-02       5.600000   \n50%    1.659350e-02 -5.213911e-02  1.342146e-03  1.124383e-02      22.000000   \n75%    3.507156e-01  2.409522e-01  9.104512e-02  7.827995e-02      77.165000   \nmax    7.519589e+00  3.517346e+00  3.161220e+01  3.384781e+01   25691.160000   \n\n               Class  \ncount  284807.000000  \nmean        0.001727  \nstd         0.041527  \nmin         0.000000  \n25%         0.000000  \n50%         0.000000  \n75%         0.000000  \nmax         1.000000  \n\n[8 rows x 31 columns]",
      "text/html": "<div>\n<style scoped>\n    .dataframe tbody tr th:only-of-type {\n        vertical-align: middle;\n    }\n\n    .dataframe tbody tr th {\n        vertical-align: top;\n    }\n\n    .dataframe thead th {\n        text-align: right;\n    }\n</style>\n<table border=\"1\" class=\"dataframe\">\n  <thead>\n    <tr style=\"text-align: right;\">\n      <th></th>\n      <th>Time</th>\n      <th>V1</th>\n      <th>V2</th>\n      <th>V3</th>\n      <th>V4</th>\n      <th>V5</th>\n      <th>V6</th>\n      <th>V7</th>\n      <th>V8</th>\n      <th>V9</th>\n      <th>...</th>\n      <th>V21</th>\n      <th>V22</th>\n      <th>V23</th>\n      <th>V24</th>\n      <th>V25</th>\n      <th>V26</th>\n      <th>V27</th>\n      <th>V28</th>\n      <th>Amount</th>\n      <th>Class</th>\n    </tr>\n  </thead>\n  <tbody>\n    <tr>\n      <th>count</th>\n      <td>284807.000000</td>\n      <td>2.848070e+05</td>\n      <td>2.848070e+05</td>\n      <td>2.848070e+05</td>\n      <td>2.848070e+05</td>\n      <td>2.848070e+05</td>\n      <td>2.848070e+05</td>\n      <td>2.848070e+05</td>\n      <td>2.848070e+05</td>\n      <td>2.848070e+05</td>\n      <td>...</td>\n      <td>2.848070e+05</td>\n      <td>2.848070e+05</td>\n      <td>2.848070e+05</td>\n      <td>2.848070e+05</td>\n      <td>2.848070e+05</td>\n      <td>2.848070e+05</td>\n      <td>2.848070e+05</td>\n      <td>2.848070e+05</td>\n      <td>284807.000000</td>\n      <td>284807.000000</td>\n    </tr>\n    <tr>\n      <th>mean</th>\n      <td>94813.859575</td>\n      <td>1.165980e-15</td>\n      <td>3.416908e-16</td>\n      <td>-1.373150e-15</td>\n      <td>2.086869e-15</td>\n      <td>9.604066e-16</td>\n      <td>1.490107e-15</td>\n      <td>-5.556467e-16</td>\n      <td>1.177556e-16</td>\n      <td>-2.406455e-15</td>\n      <td>...</td>\n      <td>1.656562e-16</td>\n      <td>-3.444850e-16</td>\n      <td>2.578648e-16</td>\n      <td>4.471968e-15</td>\n      <td>5.340915e-16</td>\n      <td>1.687098e-15</td>\n      <td>-3.666453e-16</td>\n      <td>-1.220404e-16</td>\n      <td>88.349619</td>\n      <td>0.001727</td>\n    </tr>\n    <tr>\n      <th>std</th>\n      <td>47488.145955</td>\n      <td>1.958696e+00</td>\n      <td>1.651309e+00</td>\n      <td>1.516255e+00</td>\n      <td>1.415869e+00</td>\n      <td>1.380247e+00</td>\n      <td>1.332271e+00</td>\n      <td>1.237094e+00</td>\n      <td>1.194353e+00</td>\n      <td>1.098632e+00</td>\n      <td>...</td>\n      <td>7.345240e-01</td>\n      <td>7.257016e-01</td>\n      <td>6.244603e-01</td>\n      <td>6.056471e-01</td>\n      <td>5.212781e-01</td>\n      <td>4.822270e-01</td>\n      <td>4.036325e-01</td>\n      <td>3.300833e-01</td>\n      <td>250.120109</td>\n      <td>0.041527</td>\n    </tr>\n    <tr>\n      <th>min</th>\n      <td>0.000000</td>\n      <td>-5.640751e+01</td>\n      <td>-7.271573e+01</td>\n      <td>-4.832559e+01</td>\n      <td>-5.683171e+00</td>\n      <td>-1.137433e+02</td>\n      <td>-2.616051e+01</td>\n      <td>-4.355724e+01</td>\n      <td>-7.321672e+01</td>\n      <td>-1.343407e+01</td>\n      <td>...</td>\n      <td>-3.483038e+01</td>\n      <td>-1.093314e+01</td>\n      <td>-4.480774e+01</td>\n      <td>-2.836627e+00</td>\n      <td>-1.029540e+01</td>\n      <td>-2.604551e+00</td>\n      <td>-2.256568e+01</td>\n      <td>-1.543008e+01</td>\n      <td>0.000000</td>\n      <td>0.000000</td>\n    </tr>\n    <tr>\n      <th>25%</th>\n      <td>54201.500000</td>\n      <td>-9.203734e-01</td>\n      <td>-5.985499e-01</td>\n      <td>-8.903648e-01</td>\n      <td>-8.486401e-01</td>\n      <td>-6.915971e-01</td>\n      <td>-7.682956e-01</td>\n      <td>-5.540759e-01</td>\n      <td>-2.086297e-01</td>\n      <td>-6.430976e-01</td>\n      <td>...</td>\n      <td>-2.283949e-01</td>\n      <td>-5.423504e-01</td>\n      <td>-1.618463e-01</td>\n      <td>-3.545861e-01</td>\n      <td>-3.171451e-01</td>\n      <td>-3.269839e-01</td>\n      <td>-7.083953e-02</td>\n      <td>-5.295979e-02</td>\n      <td>5.600000</td>\n      <td>0.000000</td>\n    </tr>\n    <tr>\n      <th>50%</th>\n      <td>84692.000000</td>\n      <td>1.810880e-02</td>\n      <td>6.548556e-02</td>\n      <td>1.798463e-01</td>\n      <td>-1.984653e-02</td>\n      <td>-5.433583e-02</td>\n      <td>-2.741871e-01</td>\n      <td>4.010308e-02</td>\n      <td>2.235804e-02</td>\n      <td>-5.142873e-02</td>\n      <td>...</td>\n      <td>-2.945017e-02</td>\n      <td>6.781943e-03</td>\n      <td>-1.119293e-02</td>\n      <td>4.097606e-02</td>\n      <td>1.659350e-02</td>\n      <td>-5.213911e-02</td>\n      <td>1.342146e-03</td>\n      <td>1.124383e-02</td>\n      <td>22.000000</td>\n      <td>0.000000</td>\n    </tr>\n    <tr>\n      <th>75%</th>\n      <td>139320.500000</td>\n      <td>1.315642e+00</td>\n      <td>8.037239e-01</td>\n      <td>1.027196e+00</td>\n      <td>7.433413e-01</td>\n      <td>6.119264e-01</td>\n      <td>3.985649e-01</td>\n      <td>5.704361e-01</td>\n      <td>3.273459e-01</td>\n      <td>5.971390e-01</td>\n      <td>...</td>\n      <td>1.863772e-01</td>\n      <td>5.285536e-01</td>\n      <td>1.476421e-01</td>\n      <td>4.395266e-01</td>\n      <td>3.507156e-01</td>\n      <td>2.409522e-01</td>\n      <td>9.104512e-02</td>\n      <td>7.827995e-02</td>\n      <td>77.165000</td>\n      <td>0.000000</td>\n    </tr>\n    <tr>\n      <th>max</th>\n      <td>172792.000000</td>\n      <td>2.454930e+00</td>\n      <td>2.205773e+01</td>\n      <td>9.382558e+00</td>\n      <td>1.687534e+01</td>\n      <td>3.480167e+01</td>\n      <td>7.330163e+01</td>\n      <td>1.205895e+02</td>\n      <td>2.000721e+01</td>\n      <td>1.559499e+01</td>\n      <td>...</td>\n      <td>2.720284e+01</td>\n      <td>1.050309e+01</td>\n      <td>2.252841e+01</td>\n      <td>4.584549e+00</td>\n      <td>7.519589e+00</td>\n      <td>3.517346e+00</td>\n      <td>3.161220e+01</td>\n      <td>3.384781e+01</td>\n      <td>25691.160000</td>\n      <td>1.000000</td>\n    </tr>\n  </tbody>\n</table>\n<p>8 rows × 31 columns</p>\n</div>"
     },
     "metadata": {},
     "execution_count": 12
    }
   ],
   "source": [
    "# Show some statistics of the dataset\n",
    "data_original.describe()"
   ]
  },
  {
   "cell_type": "markdown",
   "metadata": {},
   "source": [
    "### Summary of the data exploration:  \n",
    "1. There are in total 284807 samples in the dataset  \n",
    "2. Data contains 30 feature columns and 1 target column \n",
    "3. There are no missing values under each feature column and target column so no need for missing value processing\n",
    "4. All the features are continuous numerical features without categorical features,so no need for one-hot encoding\n",
    "5. The class distribution is clearly quite imbalanced, with no-fraud occupying 99.83% and fraud occupying only 0.17%"
   ]
  },
  {
   "cell_type": "markdown",
   "metadata": {},
   "source": [
    "### II. Feature-label split and train-test split  \n",
    ">To avoid the data leakage，before any data preprocessing, perform the train-test split first  \n",
    ">[Reference1：Normalize data before or after split of training and testing data?](https://stackoverflow.com/questions/49444262/normalize-data-before-or-after-split-of-training-and-testing-data)  \n",
    ">[Reference2：Onehotencoding before or after split of training and testing data?](https://stackoverflow.com/questions/55525195/do-i-have-to-do-one-hot-encoding-separately-for-train-and-test-dataset)  \n",
    ">[Reference3：Imputation before or after train test spliting](https://stats.stackexchange.com/questions/95083/imputation-before-or-after-splitting-into-train-and-test)"
   ]
  },
  {
   "cell_type": "code",
   "execution_count": 13,
   "metadata": {},
   "outputs": [],
   "source": [
    "# Feature-label split\n",
    "# we think the 'time' feature is not that influential so we just delete it\n",
    "X = data_original.iloc[:,1:-1]\n",
    "y = data_original['Class']"
   ]
  },
  {
   "cell_type": "code",
   "execution_count": 14,
   "metadata": {},
   "outputs": [
    {
     "output_type": "execute_result",
     "data": {
      "text/plain": "         V1        V2        V3        V4        V5        V6        V7  \\\n0 -1.359807 -0.072781  2.536347  1.378155 -0.338321  0.462388  0.239599   \n1  1.191857  0.266151  0.166480  0.448154  0.060018 -0.082361 -0.078803   \n2 -1.358354 -1.340163  1.773209  0.379780 -0.503198  1.800499  0.791461   \n3 -0.966272 -0.185226  1.792993 -0.863291 -0.010309  1.247203  0.237609   \n4 -1.158233  0.877737  1.548718  0.403034 -0.407193  0.095921  0.592941   \n\n         V8        V9       V10  ...       V20       V21       V22       V23  \\\n0  0.098698  0.363787  0.090794  ...  0.251412 -0.018307  0.277838 -0.110474   \n1  0.085102 -0.255425 -0.166974  ... -0.069083 -0.225775 -0.638672  0.101288   \n2  0.247676 -1.514654  0.207643  ...  0.524980  0.247998  0.771679  0.909412   \n3  0.377436 -1.387024 -0.054952  ... -0.208038 -0.108300  0.005274 -0.190321   \n4 -0.270533  0.817739  0.753074  ...  0.408542 -0.009431  0.798278 -0.137458   \n\n        V24       V25       V26       V27       V28  Amount  \n0  0.066928  0.128539 -0.189115  0.133558 -0.021053  149.62  \n1 -0.339846  0.167170  0.125895 -0.008983  0.014724    2.69  \n2 -0.689281 -0.327642 -0.139097 -0.055353 -0.059752  378.66  \n3 -1.175575  0.647376 -0.221929  0.062723  0.061458  123.50  \n4  0.141267 -0.206010  0.502292  0.219422  0.215153   69.99  \n\n[5 rows x 29 columns]",
      "text/html": "<div>\n<style scoped>\n    .dataframe tbody tr th:only-of-type {\n        vertical-align: middle;\n    }\n\n    .dataframe tbody tr th {\n        vertical-align: top;\n    }\n\n    .dataframe thead th {\n        text-align: right;\n    }\n</style>\n<table border=\"1\" class=\"dataframe\">\n  <thead>\n    <tr style=\"text-align: right;\">\n      <th></th>\n      <th>V1</th>\n      <th>V2</th>\n      <th>V3</th>\n      <th>V4</th>\n      <th>V5</th>\n      <th>V6</th>\n      <th>V7</th>\n      <th>V8</th>\n      <th>V9</th>\n      <th>V10</th>\n      <th>...</th>\n      <th>V20</th>\n      <th>V21</th>\n      <th>V22</th>\n      <th>V23</th>\n      <th>V24</th>\n      <th>V25</th>\n      <th>V26</th>\n      <th>V27</th>\n      <th>V28</th>\n      <th>Amount</th>\n    </tr>\n  </thead>\n  <tbody>\n    <tr>\n      <th>0</th>\n      <td>-1.359807</td>\n      <td>-0.072781</td>\n      <td>2.536347</td>\n      <td>1.378155</td>\n      <td>-0.338321</td>\n      <td>0.462388</td>\n      <td>0.239599</td>\n      <td>0.098698</td>\n      <td>0.363787</td>\n      <td>0.090794</td>\n      <td>...</td>\n      <td>0.251412</td>\n      <td>-0.018307</td>\n      <td>0.277838</td>\n      <td>-0.110474</td>\n      <td>0.066928</td>\n      <td>0.128539</td>\n      <td>-0.189115</td>\n      <td>0.133558</td>\n      <td>-0.021053</td>\n      <td>149.62</td>\n    </tr>\n    <tr>\n      <th>1</th>\n      <td>1.191857</td>\n      <td>0.266151</td>\n      <td>0.166480</td>\n      <td>0.448154</td>\n      <td>0.060018</td>\n      <td>-0.082361</td>\n      <td>-0.078803</td>\n      <td>0.085102</td>\n      <td>-0.255425</td>\n      <td>-0.166974</td>\n      <td>...</td>\n      <td>-0.069083</td>\n      <td>-0.225775</td>\n      <td>-0.638672</td>\n      <td>0.101288</td>\n      <td>-0.339846</td>\n      <td>0.167170</td>\n      <td>0.125895</td>\n      <td>-0.008983</td>\n      <td>0.014724</td>\n      <td>2.69</td>\n    </tr>\n    <tr>\n      <th>2</th>\n      <td>-1.358354</td>\n      <td>-1.340163</td>\n      <td>1.773209</td>\n      <td>0.379780</td>\n      <td>-0.503198</td>\n      <td>1.800499</td>\n      <td>0.791461</td>\n      <td>0.247676</td>\n      <td>-1.514654</td>\n      <td>0.207643</td>\n      <td>...</td>\n      <td>0.524980</td>\n      <td>0.247998</td>\n      <td>0.771679</td>\n      <td>0.909412</td>\n      <td>-0.689281</td>\n      <td>-0.327642</td>\n      <td>-0.139097</td>\n      <td>-0.055353</td>\n      <td>-0.059752</td>\n      <td>378.66</td>\n    </tr>\n    <tr>\n      <th>3</th>\n      <td>-0.966272</td>\n      <td>-0.185226</td>\n      <td>1.792993</td>\n      <td>-0.863291</td>\n      <td>-0.010309</td>\n      <td>1.247203</td>\n      <td>0.237609</td>\n      <td>0.377436</td>\n      <td>-1.387024</td>\n      <td>-0.054952</td>\n      <td>...</td>\n      <td>-0.208038</td>\n      <td>-0.108300</td>\n      <td>0.005274</td>\n      <td>-0.190321</td>\n      <td>-1.175575</td>\n      <td>0.647376</td>\n      <td>-0.221929</td>\n      <td>0.062723</td>\n      <td>0.061458</td>\n      <td>123.50</td>\n    </tr>\n    <tr>\n      <th>4</th>\n      <td>-1.158233</td>\n      <td>0.877737</td>\n      <td>1.548718</td>\n      <td>0.403034</td>\n      <td>-0.407193</td>\n      <td>0.095921</td>\n      <td>0.592941</td>\n      <td>-0.270533</td>\n      <td>0.817739</td>\n      <td>0.753074</td>\n      <td>...</td>\n      <td>0.408542</td>\n      <td>-0.009431</td>\n      <td>0.798278</td>\n      <td>-0.137458</td>\n      <td>0.141267</td>\n      <td>-0.206010</td>\n      <td>0.502292</td>\n      <td>0.219422</td>\n      <td>0.215153</td>\n      <td>69.99</td>\n    </tr>\n  </tbody>\n</table>\n<p>5 rows × 29 columns</p>\n</div>"
     },
     "metadata": {},
     "execution_count": 14
    }
   ],
   "source": [
    "X.head()"
   ]
  },
  {
   "cell_type": "code",
   "execution_count": 15,
   "metadata": {},
   "outputs": [
    {
     "output_type": "execute_result",
     "data": {
      "text/plain": "0    0\n1    0\n2    0\n3    0\n4    0\nName: Class, dtype: int64"
     },
     "metadata": {},
     "execution_count": 15
    }
   ],
   "source": [
    "y.head()"
   ]
  },
  {
   "cell_type": "code",
   "execution_count": 16,
   "metadata": {},
   "outputs": [],
   "source": [
    "# Train-test split with 75% data split as train set and 25% as test set\n",
    "# Attention，here we'll use the stratified sampling for the dataset split to confirm that the class distribution keeps same or  similar before and after splitting\n",
    "# Besides，if we already know certaian feature is crucial beforeband, we can also perform the stratified sampling based on that feature instead of the class\n",
    "# Reference1：https://medium.com/@411.codebrain/train-test-split-vs-stratifiedshufflesplit-374c3dbdcc36\n",
    "# Reference2：https://zhuanlan.zhihu.com/p/49991313\n",
    "from sklearn.model_selection import train_test_split\n",
    "X_train, X_test, y_train, y_test = train_test_split(X, y, test_size=0.25, stratify=y, random_state=42) "
   ]
  },
  {
   "source": [
    "Calculate class weights  \n",
    ">1. For binary classification problems, some models may require a class_weight of dict format: {0:0.2, 1:0.6}, while the other models may require a scale_pos_weight = count(negative examples)/count(Positive examples)  \n",
    ">2. For multiclassification problems, some models require a dict class_weieght while others may require a tensor  \n",
    ">3. To calculate the class weights for each class, one way is to do it following the rules :  \n",
    "Weight of class C is the size of largest class divided by the size of class C  \n",
    ">4. Another more convenient way is to utilize the sklearn __compute_class_weight function__, however the result of this function is an array not a dict, thus we still need to transfer it to a dict format using dict(enumerate())\n"
   ],
   "cell_type": "markdown",
   "metadata": {}
  },
  {
   "cell_type": "code",
   "execution_count": 17,
   "metadata": {},
   "outputs": [],
   "source": [
    "# As this is a imbalanced problem ,we need calculate the weights of each class for the following pytorch training\n",
    "# https://pytorch.org/docs/stable/generated/torch.nn.NLLLoss.html\n",
    "# Important : https://datascience.stackexchange.com/questions/48369/what-loss-function-to-use-for-imbalanced-classes-using-pytorch\n",
    "# https://blog.csdn.net/oJiMoDeYe12345/article/details/80196376\n",
    "weight_torch = torch.tensor([1,577.88])"
   ]
  },
  {
   "cell_type": "code",
   "execution_count": 18,
   "metadata": {},
   "outputs": [],
   "source": [
    "# the second way which may be more convenient to calculate class weights\n",
    "from sklearn.utils.class_weight import compute_class_weight\n",
    "class_weights = compute_class_weight('balanced', np.unique(y_train), y_train)"
   ]
  },
  {
   "cell_type": "code",
   "execution_count": 19,
   "metadata": {},
   "outputs": [
    {
     "output_type": "execute_result",
     "data": {
      "text/plain": "numpy.ndarray"
     },
     "metadata": {},
     "execution_count": 19
    }
   ],
   "source": [
    "type(class_weights)"
   ]
  },
  {
   "cell_type": "code",
   "execution_count": 20,
   "metadata": {},
   "outputs": [
    {
     "output_type": "execute_result",
     "data": {
      "text/plain": "{0: 0.5008652385150725, 1: 289.43766937669375}"
     },
     "metadata": {},
     "execution_count": 20
    }
   ],
   "source": [
    "cw = dict(enumerate(class_weights))\n",
    "cw"
   ]
  },
  {
   "cell_type": "markdown",
   "metadata": {},
   "source": [
    "### III.Feature Scaling  \n",
    ">1. Why should we perform the feature scaling?  \n",
    "*After feature scaling，the magnitude of each feature will be similar which help accelerate gradient descent converge*  \n",
    "*[Ref1:Feature Scaling with scikit-learn](https://benalexkeen.com/feature-scaling-with-scikit-learn/)*  \n",
    "*[Ref2:为什么 feature scaling 会使 gradient descent 的收敛更好?](https://www.zhihu.com/question/37129350)*  \n",
    "*[Ref3:机器学习（一）- feature scaling](https://blog.csdn.net/mike112223/article/details/74923096)*  \n",
    "*[Ref4:sklearn.preprocessing.StandardScaler](https://scikit-learn.org/stable/modules/generated/sklearn.preprocessing.StandardScaler.html#sklearn.preprocessing.StandardScaler) *  \n",
    "*[Ref5:特征缩放的几种方法](https://www.cnblogs.com/HuZihu/p/9761161.html) *  \n",
    ">2. *We only perform the feature scaling on those continuous numeric features，not on any discrete categorical features*  \n",
    "*[Ref1:Should you ever standardise binary variables?](https://stats.stackexchange.com/questions/59392/should-you-ever-standardise-binary-variables)*  \n",
    "*[Ref2:Dummy variables, is it necessary to standardize them?\n",
    "](https://stackoverflow.com/questions/50557129/dummy-variables-is-necessary-to-standardize-them)*  \n",
    ">3. *Three most widely used feature scaling methods: min-max scaling，standardization and RobustScaler:*  \n",
    "   *- min-max scaling(normalization):*  \n",
    "   $ X_{minmax} = \\frac{X - X_{min}}{X_{max} - X_{min}} $  \n",
    "   *- standardization(Z-score):*  \n",
    "   $ X_{std} = \\frac{X - \\mu }{\\sigma } $  *($\\mu$ is the mean, $\\sigma$ is the standard deviation)*  \n",
    "   *- robustscaler:*  \n",
    "   $ X_{rb} = \\frac{X - Q_1(x) }{Q_3(x) - Q_1(x)} $ *($Q_1$ is the first Quartile， $Q_3$ is the third Quartile)*  \n",
    "   [Ref1:Feature Scaling with scikit-learn](https://benalexkeen.com/feature-scaling-with-scikit-learn/) \n",
    ">4. *Other feature scaling methods: PowerTransformer and QuantileTransformer*\n",
    ">5. *[Ref1：Compare the effect of different scalers on data with outliers](https://scikit-learn.org/stable/auto_examples/preprocessing/plot_all_scaling.html#sphx-glr-auto-examples-preprocessing-plot-all-scaling-py) *  \n",
    "*[Ref2：Which advantages does MinMax scaling have over a standard scaling using the mean and the standard deviation?](https://www.quora.com/Which-advantages-does-MinMax-scaling-have-over-a-standard-scaling-using-the-mean-and-the-standard-deviation) *  \n",
    "*[Ref3：How to Identify Outliers in your Data？](https://machinelearningmastery.com/how-to-identify-outliers-in-your-data/) *  \n",
    "*[Ref4：How to Make Your Machine Learning Models Robust to Outliers？](https://www.kdnuggets.com/2018/08/make-machine-learning-models-robust-outliers.html) *      \n",
    ">6. *__Attention__: We need first split the train and test set, then perform the feature scaling on train set, then perform the feature scaling on test set, with the scaler values calculated on train set (not test set).*  \n",
    "*[Ref1：Difference between preprocessing train and test set before and after splitting](https://stats.stackexchange.com/questions/267012/difference-between-preprocessing-train-and-test-set-before-and-after-splitting) *\n",
    "\n",
    "\n"
   ]
  },
  {
   "cell_type": "code",
   "execution_count": 21,
   "metadata": {},
   "outputs": [],
   "source": [
    "# Here we use the Standardization(Z-score) method which has been widely used for NN feature scaling\n",
    "from sklearn.preprocessing import StandardScaler\n",
    "\n",
    "scaler_std = StandardScaler()  \n",
    "X_train_copy = X_train.copy(deep=True)\n",
    "X_train_std = scaler_std.fit_transform(X_train_copy)"
   ]
  },
  {
   "cell_type": "code",
   "execution_count": 22,
   "metadata": {},
   "outputs": [
    {
     "output_type": "execute_result",
     "data": {
      "text/plain": "numpy.ndarray"
     },
     "metadata": {},
     "execution_count": 22
    }
   ],
   "source": [
    "type(X_train_std)"
   ]
  },
  {
   "cell_type": "code",
   "execution_count": 23,
   "metadata": {},
   "outputs": [
    {
     "output_type": "execute_result",
     "data": {
      "text/plain": "pandas.core.series.Series"
     },
     "metadata": {},
     "execution_count": 23
    }
   ],
   "source": [
    "type(y_train)"
   ]
  },
  {
   "source": [
    "### IV. Feature Selection  \n",
    ">* Essence of feature selection：drop those redundant or irrelevant features, perform the dimensionality reduction on the orignal feature space \n",
    ">* possible benefit of feature selection：improve the model's predictability, avoid overfitting, improve the training speed  \n",
    ">* Location of feature selection: generally it should be done [after the feature selection](https://stackoverflow.com/questions/46062679/right-order-of-doing-feature-selection-pca-and-normalization)  \n",
    ">* Feature selection methods: generally, three categories (Filter)，(Wrapper) and (Embedded)  \n",
    ">>* Filter method doesn't rely on any ML model. With this method, we don't have to train some model to calculate the feature importances, so it's model-independent. Some widely used methods in this category are:  \n",
    "Welch's t-Test, Fisher score, Chi-Squared test, Relief-based, CFS(Correlation-based feature selection),  \n",
    "FCBF(Fast correlation-based filter)等等。\n",
    ">>* Wrapper method needs a certain model to train and then based on the results, it gives the feature importances. The problem is, there are no guildlines on which model to choose to train for the feature selection, so it's model dependent. To solve this model uncertainty, there are two possible ways that can be tried. First, use the voting method, which means we can first try several models for feature selection and finally based on the voting rules to confirm which features should be left. [Second, keep the model for feature selection and the model for the final training consistent](https://zhuanlan.zhihu.com/p/74198735). Possible wrapper methods：Recursive Feature Elimination(RFE), Simulated Annealing(SA), and Genetic Algorithm(GA) etc. Among them，[genetic algorithm can confirm to get the global optimum](http://www.feat.engineering/genetic-algorithms.html),but it's very time-consuming，low efficient，and is advised to try only when the computing resource is quite sufficient and you don't have to catch the deadline.  \n",
    ">>* Embedded method，regularization, L1-Lasso，L2-Ridge and Elastic Net.\n",
    ">* [Ref1:Overview of feature selection methods](https://towardsdatascience.com/overview-of-feature-selection-methods-a2d115c7a8f7)  \n",
    "[Ref2:Machine Learning Explained: Regularization](http://enhancedatascience.com/2017/07/04/machine-learning-explained-regularization/)  \n",
    "[Ref3:机器学习（六）：特征选择方法—Filter,Wrapper,Embedded](https://zhuanlan.zhihu.com/p/120924870)  \n",
    "[Ref4:基于 Jupyter 的特征工程手册：特征选择（四）](https://zhuanlan.zhihu.com/p/138758083)  \n",
    "[Ref5：特征选择，经典三刀](https://zhuanlan.zhihu.com/p/24635014)  \n",
    "[Ref6：特征工程笔记](https://www.jianshu.com/p/03284dd5e0bf)  \n",
    "\n",
    ">* Two promising feature selection methods:  \n",
    "[Borutapy](https://github.com/scikit-learn-contrib/boruta_py) and [GradientFeatureSelector](https://nni.readthedocs.io/en/latest/FeatureEngineering/GradientFeatureSelector.html)：  \n",
    ">>* When using BorutaPy, in the wrapper we should select the RandomForest or BalancedRandomForest for feature selection. Some other models like xgboost and lightgbm are not compatible.  \n",
    ">* [Boruta Ref1：Select Important Variables using Boruta Algorithm](https://www.datasciencecentral.com/profiles/blogs/select-important-variables-using-boruta-algorithm)  \n",
    ">* [Boruta Ref2：Boruta explained exactly how you wished someone explained to you](https://towardsdatascience.com/boruta-explained-the-way-i-wish-someone-explained-it-to-me-4489d70e154a)  \n",
    ">* [Boruta Ref3：Feature selection? You are probably doing it wrong](https://towardsdatascience.com/feature-selection-you-are-probably-doing-it-wrong-985679b41456)  \n",
    ">* [Boruta Ref4: Boruta-xgboost](https://github.com/chasedehan/BoostARoota)  \n"
   ],
   "cell_type": "markdown",
   "metadata": {}
  },
  {
   "cell_type": "code",
   "execution_count": 24,
   "metadata": {},
   "outputs": [],
   "source": [
    "from boruta import BorutaPy\n",
    "from imblearn.ensemble import BalancedRandomForestClassifier\n"
   ]
  },
  {
   "cell_type": "code",
   "execution_count": 25,
   "metadata": {},
   "outputs": [
    {
     "output_type": "execute_result",
     "data": {
      "text/plain": "array(['V1', 'V2', 'V3', 'V4', 'V5', 'V6', 'V7', 'V8', 'V9', 'V10', 'V11',\n       'V12', 'V13', 'V14', 'V15', 'V16', 'V17', 'V18', 'V19', 'V20',\n       'V21', 'V22', 'V23', 'V24', 'V25', 'V26', 'V27', 'V28', 'Amount'],\n      dtype=object)"
     },
     "metadata": {},
     "execution_count": 25
    }
   ],
   "source": [
    "# Return the feature names of the dataset\n",
    "# https://stackoverflow.com/questions/19482970/get-list-from-pandas-dataframe-column-headers\n",
    "Columns = X_train.columns.to_numpy()\n",
    "Columns"
   ]
  },
  {
   "cell_type": "code",
   "execution_count": 26,
   "metadata": {},
   "outputs": [],
   "source": [
    "# max_depth value is advised to be set within the range randint [3,7] by the author of the botutapy\n",
    "# the other hyparams just keep the default setting, no tuning here\n",
    "brf = BalancedRandomForestClassifier(n_jobs=-1, class_weight = cw, max_depth=7,random_state=42)\n",
    "feat_selector_brf = BorutaPy(brf, n_estimators='auto', verbose=2, random_state=42)"
   ]
  },
  {
   "cell_type": "code",
   "execution_count": 27,
   "metadata": {
    "tags": []
   },
   "outputs": [
    {
     "output_type": "stream",
     "name": "stdout",
     "text": "Iteration: \t1 / 100\nConfirmed: \t0\nTentative: \t29\nRejected: \t0\nIteration: \t2 / 100\nConfirmed: \t0\nTentative: \t29\nRejected: \t0\nIteration: \t3 / 100\nConfirmed: \t0\nTentative: \t29\nRejected: \t0\nIteration: \t4 / 100\nConfirmed: \t0\nTentative: \t29\nRejected: \t0\nIteration: \t5 / 100\nConfirmed: \t0\nTentative: \t29\nRejected: \t0\nIteration: \t6 / 100\nConfirmed: \t0\nTentative: \t29\nRejected: \t0\nIteration: \t7 / 100\nConfirmed: \t0\nTentative: \t29\nRejected: \t0\nIteration: \t8 / 100\nConfirmed: \t7\nTentative: \t2\nRejected: \t20\nIteration: \t9 / 100\nConfirmed: \t7\nTentative: \t2\nRejected: \t20\nIteration: \t10 / 100\nConfirmed: \t7\nTentative: \t2\nRejected: \t20\nIteration: \t11 / 100\nConfirmed: \t7\nTentative: \t2\nRejected: \t20\nIteration: \t12 / 100\nConfirmed: \t7\nTentative: \t1\nRejected: \t21\nIteration: \t13 / 100\nConfirmed: \t7\nTentative: \t1\nRejected: \t21\nIteration: \t14 / 100\nConfirmed: \t7\nTentative: \t1\nRejected: \t21\nIteration: \t15 / 100\nConfirmed: \t7\nTentative: \t1\nRejected: \t21\nIteration: \t16 / 100\nConfirmed: \t7\nTentative: \t1\nRejected: \t21\nIteration: \t17 / 100\nConfirmed: \t7\nTentative: \t1\nRejected: \t21\nIteration: \t18 / 100\nConfirmed: \t7\nTentative: \t1\nRejected: \t21\nIteration: \t19 / 100\nConfirmed: \t7\nTentative: \t1\nRejected: \t21\nIteration: \t20 / 100\nConfirmed: \t7\nTentative: \t1\nRejected: \t21\nIteration: \t21 / 100\nConfirmed: \t7\nTentative: \t1\nRejected: \t21\nIteration: \t22 / 100\nConfirmed: \t7\nTentative: \t1\nRejected: \t21\nIteration: \t23 / 100\nConfirmed: \t7\nTentative: \t1\nRejected: \t21\nIteration: \t24 / 100\nConfirmed: \t7\nTentative: \t1\nRejected: \t21\nIteration: \t25 / 100\nConfirmed: \t7\nTentative: \t1\nRejected: \t21\nIteration: \t26 / 100\nConfirmed: \t7\nTentative: \t1\nRejected: \t21\nIteration: \t27 / 100\nConfirmed: \t7\nTentative: \t1\nRejected: \t21\nIteration: \t28 / 100\nConfirmed: \t7\nTentative: \t1\nRejected: \t21\nIteration: \t29 / 100\nConfirmed: \t7\nTentative: \t1\nRejected: \t21\nIteration: \t30 / 100\nConfirmed: \t7\nTentative: \t1\nRejected: \t21\nIteration: \t31 / 100\nConfirmed: \t7\nTentative: \t1\nRejected: \t21\nIteration: \t32 / 100\nConfirmed: \t7\nTentative: \t1\nRejected: \t21\nIteration: \t33 / 100\nConfirmed: \t7\nTentative: \t1\nRejected: \t21\nIteration: \t34 / 100\nConfirmed: \t7\nTentative: \t1\nRejected: \t21\nIteration: \t35 / 100\nConfirmed: \t7\nTentative: \t1\nRejected: \t21\nIteration: \t36 / 100\nConfirmed: \t7\nTentative: \t1\nRejected: \t21\nIteration: \t37 / 100\nConfirmed: \t7\nTentative: \t1\nRejected: \t21\nIteration: \t38 / 100\nConfirmed: \t7\nTentative: \t1\nRejected: \t21\nIteration: \t39 / 100\nConfirmed: \t7\nTentative: \t1\nRejected: \t21\nIteration: \t40 / 100\nConfirmed: \t7\nTentative: \t1\nRejected: \t21\nIteration: \t41 / 100\nConfirmed: \t7\nTentative: \t1\nRejected: \t21\nIteration: \t42 / 100\nConfirmed: \t7\nTentative: \t1\nRejected: \t21\nIteration: \t43 / 100\nConfirmed: \t7\nTentative: \t1\nRejected: \t21\nIteration: \t44 / 100\nConfirmed: \t7\nTentative: \t1\nRejected: \t21\nIteration: \t45 / 100\nConfirmed: \t7\nTentative: \t1\nRejected: \t21\nIteration: \t46 / 100\nConfirmed: \t7\nTentative: \t1\nRejected: \t21\nIteration: \t47 / 100\nConfirmed: \t7\nTentative: \t1\nRejected: \t21\nIteration: \t48 / 100\nConfirmed: \t7\nTentative: \t1\nRejected: \t21\nIteration: \t49 / 100\nConfirmed: \t7\nTentative: \t1\nRejected: \t21\nIteration: \t50 / 100\nConfirmed: \t7\nTentative: \t1\nRejected: \t21\nIteration: \t51 / 100\nConfirmed: \t7\nTentative: \t1\nRejected: \t21\nIteration: \t52 / 100\nConfirmed: \t7\nTentative: \t1\nRejected: \t21\nIteration: \t53 / 100\nConfirmed: \t7\nTentative: \t1\nRejected: \t21\nIteration: \t54 / 100\nConfirmed: \t7\nTentative: \t1\nRejected: \t21\nIteration: \t55 / 100\nConfirmed: \t7\nTentative: \t1\nRejected: \t21\nIteration: \t56 / 100\nConfirmed: \t7\nTentative: \t1\nRejected: \t21\nIteration: \t57 / 100\nConfirmed: \t7\nTentative: \t1\nRejected: \t21\nIteration: \t58 / 100\nConfirmed: \t7\nTentative: \t1\nRejected: \t21\nIteration: \t59 / 100\nConfirmed: \t7\nTentative: \t1\nRejected: \t21\nIteration: \t60 / 100\nConfirmed: \t7\nTentative: \t1\nRejected: \t21\nIteration: \t61 / 100\nConfirmed: \t7\nTentative: \t1\nRejected: \t21\nIteration: \t62 / 100\nConfirmed: \t7\nTentative: \t1\nRejected: \t21\nIteration: \t63 / 100\nConfirmed: \t7\nTentative: \t1\nRejected: \t21\nIteration: \t64 / 100\nConfirmed: \t7\nTentative: \t1\nRejected: \t21\nIteration: \t65 / 100\nConfirmed: \t7\nTentative: \t1\nRejected: \t21\nIteration: \t66 / 100\nConfirmed: \t7\nTentative: \t1\nRejected: \t21\nIteration: \t67 / 100\nConfirmed: \t7\nTentative: \t1\nRejected: \t21\nIteration: \t68 / 100\nConfirmed: \t7\nTentative: \t1\nRejected: \t21\nIteration: \t69 / 100\nConfirmed: \t7\nTentative: \t1\nRejected: \t21\nIteration: \t70 / 100\nConfirmed: \t7\nTentative: \t1\nRejected: \t21\nIteration: \t71 / 100\nConfirmed: \t7\nTentative: \t1\nRejected: \t21\nIteration: \t72 / 100\nConfirmed: \t7\nTentative: \t1\nRejected: \t21\nIteration: \t73 / 100\nConfirmed: \t7\nTentative: \t1\nRejected: \t21\nIteration: \t74 / 100\nConfirmed: \t7\nTentative: \t1\nRejected: \t21\nIteration: \t75 / 100\nConfirmed: \t7\nTentative: \t1\nRejected: \t21\nIteration: \t76 / 100\nConfirmed: \t7\nTentative: \t1\nRejected: \t21\nIteration: \t77 / 100\nConfirmed: \t7\nTentative: \t1\nRejected: \t21\nIteration: \t78 / 100\nConfirmed: \t7\nTentative: \t1\nRejected: \t21\nIteration: \t79 / 100\nConfirmed: \t7\nTentative: \t1\nRejected: \t21\nIteration: \t80 / 100\nConfirmed: \t7\nTentative: \t1\nRejected: \t21\nIteration: \t81 / 100\nConfirmed: \t7\nTentative: \t1\nRejected: \t21\nIteration: \t82 / 100\nConfirmed: \t7\nTentative: \t1\nRejected: \t21\nIteration: \t83 / 100\nConfirmed: \t7\nTentative: \t1\nRejected: \t21\nIteration: \t84 / 100\nConfirmed: \t7\nTentative: \t1\nRejected: \t21\nIteration: \t85 / 100\nConfirmed: \t7\nTentative: \t1\nRejected: \t21\nIteration: \t86 / 100\nConfirmed: \t7\nTentative: \t1\nRejected: \t21\nIteration: \t87 / 100\nConfirmed: \t7\nTentative: \t1\nRejected: \t21\nIteration: \t88 / 100\nConfirmed: \t7\nTentative: \t1\nRejected: \t21\nIteration: \t89 / 100\nConfirmed: \t7\nTentative: \t1\nRejected: \t21\nIteration: \t90 / 100\nConfirmed: \t7\nTentative: \t1\nRejected: \t21\nIteration: \t91 / 100\nConfirmed: \t7\nTentative: \t1\nRejected: \t21\nIteration: \t92 / 100\nConfirmed: \t7\nTentative: \t1\nRejected: \t21\nIteration: \t93 / 100\nConfirmed: \t7\nTentative: \t1\nRejected: \t21\nIteration: \t94 / 100\nConfirmed: \t7\nTentative: \t1\nRejected: \t21\nIteration: \t95 / 100\nConfirmed: \t7\nTentative: \t1\nRejected: \t21\nIteration: \t96 / 100\nConfirmed: \t7\nTentative: \t1\nRejected: \t21\nIteration: \t97 / 100\nConfirmed: \t7\nTentative: \t1\nRejected: \t21\nIteration: \t98 / 100\nConfirmed: \t7\nTentative: \t1\nRejected: \t21\nIteration: \t99 / 100\nConfirmed: \t7\nTentative: \t1\nRejected: \t21\n\n\nBorutaPy finished running.\n\nIteration: \t100 / 100\nConfirmed: \t7\nTentative: \t1\nRejected: \t21\n"
    },
    {
     "output_type": "execute_result",
     "data": {
      "text/plain": "BorutaPy(estimator=BalancedRandomForestClassifier(class_weight={0: 0.5008652385150725,\n                                                                1: 289.43766937669375},\n                                                  max_depth=7, n_estimators=57,\n                                                  n_jobs=-1,\n                                                  random_state=RandomState(MT19937) at 0x20F07464D40),\n         n_estimators='auto',\n         random_state=RandomState(MT19937) at 0x20F07464D40, verbose=2)"
     },
     "metadata": {},
     "execution_count": 27
    }
   ],
   "source": [
    "feat_selector_brf.fit(X_train_std, y_train.to_numpy())"
   ]
  },
  {
   "cell_type": "code",
   "execution_count": 28,
   "metadata": {},
   "outputs": [
    {
     "output_type": "execute_result",
     "data": {
      "text/plain": "array(['V1', 'V3', 'V4', 'V11', 'V12', 'V14', 'V24'], dtype=object)"
     },
     "metadata": {},
     "execution_count": 28
    }
   ],
   "source": [
    "# After feature selection by Borutapy, the original features will be categorized as three classes: (1) those that are confirmed useful for model prediction and so kept (2) those that are confirmed not useful and so deleted (3) those that Boruta cannot confirm wether useful or not so cannot decide whether to keep or delete and this decision should be made by users, in short, those that are in doubt\n",
    "# support_ attribute contains the first class while support_weak_ contains the third class\n",
    "confirmed_brf = feat_selector_brf.support_\n",
    "features_confirmed_brf = Columns[confirmed_brf]\n",
    "features_confirmed_brf"
   ]
  },
  {
   "source": [
    "So, Borutapy think the features \\['V1', 'V3', 'V4', 'V11', 'V12', 'V14', 'V24'\\] are useful and will keep them."
   ],
   "cell_type": "markdown",
   "metadata": {}
  },
  {
   "cell_type": "code",
   "execution_count": 29,
   "metadata": {},
   "outputs": [
    {
     "output_type": "execute_result",
     "data": {
      "text/plain": "array(['V9'], dtype=object)"
     },
     "metadata": {},
     "execution_count": 29
    }
   ],
   "source": [
    "tentative_brf = feat_selector_brf.support_weak_\n",
    "features_tentative_brf = Columns[tentative_brf]\n",
    "features_tentative_brf"
   ]
  },
  {
   "source": [
    "Similarly, Borutapy think whether to keep or delete the feature \\['V9'\\] is tentative and needs user's decision"
   ],
   "cell_type": "markdown",
   "metadata": {}
  },
  {
   "cell_type": "code",
   "execution_count": 30,
   "metadata": {},
   "outputs": [
    {
     "output_type": "execute_result",
     "data": {
      "text/plain": "(213605, 7)"
     },
     "metadata": {},
     "execution_count": 30
    }
   ],
   "source": [
    "# features_filtered_narrow only keep those confirmed features by Borutapy\n",
    "X_train_filtered_brf_narrow = feat_selector_brf.transform(X_train_std)\n",
    "X_train_filtered_brf_narrow.shape"
   ]
  },
  {
   "cell_type": "code",
   "execution_count": 31,
   "metadata": {},
   "outputs": [
    {
     "output_type": "execute_result",
     "data": {
      "text/plain": "(213605, 8)"
     },
     "metadata": {},
     "execution_count": 31
    }
   ],
   "source": [
    "# features_filtered_broad contains both the confirmed and tentative features,just set weak = True\n",
    "X_train_filtered_brf_broad = feat_selector_brf.transform(X_train_std,weak = True)\n",
    "X_train_filtered_brf_broad.shape"
   ]
  },
  {
   "cell_type": "code",
   "execution_count": null,
   "metadata": {},
   "outputs": [],
   "source": []
  }
 ],
 "metadata": {
  "language_info": {
   "codemirror_mode": {
    "name": "ipython",
    "version": 3
   },
   "file_extension": ".py",
   "mimetype": "text/x-python",
   "name": "python",
   "nbconvert_exporter": "python",
   "pygments_lexer": "ipython3",
   "version": "3.8.5-final"
  },
  "orig_nbformat": 2,
  "kernelspec": {
   "name": "python_defaultSpec_1600203439617",
   "display_name": "Python 3.8.5 64-bit ('ml': conda)"
  }
 },
 "nbformat": 4,
 "nbformat_minor": 2
}